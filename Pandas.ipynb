{
 "cells": [
  {
   "cell_type": "code",
   "execution_count": 61,
   "metadata": {
    "collapsed": true
   },
   "outputs": [],
   "source": [
    "from pandas import Series,DataFrame\n",
    "import pandas as pd"
   ]
  },
  {
   "cell_type": "markdown",
   "metadata": {},
   "source": [
    "### pandas的两个数据结构Series和DataFrame\n",
    "#### Series"
   ]
  },
  {
   "cell_type": "code",
   "execution_count": 104,
   "metadata": {},
   "outputs": [
    {
     "name": "stdout",
     "output_type": "stream",
     "text": [
      "0    4\n",
      "1   -7\n",
      "2    3\n",
      "3    4\n",
      "dtype: int64\n",
      "a    1\n",
      "b    2\n",
      "c    3\n",
      "d    4\n",
      "dtype: int64\n",
      "Ohio      10000\n",
      "Oregon    16000\n",
      "Texas      2000\n",
      "Utah       5000\n",
      "dtype: int64\n"
     ]
    }
   ],
   "source": [
    "#索引在左边，值在右边 \n",
    "obj = Series([4,-7,3,4])\n",
    "obj2 = Series([1,2,3,4],index = ['a','b','c','d'])\n",
    "#可以通过字典来创建Series\n",
    "data = {'Ohio':10000,'Texas':2000,'Oregon':16000,'Utah':5000}\n",
    "obj3 = Series(data)\n",
    "print obj\n",
    "print obj2\n",
    "print obj3"
   ]
  },
  {
   "cell_type": "code",
   "execution_count": 105,
   "metadata": {},
   "outputs": [
    {
     "name": "stdout",
     "output_type": "stream",
     "text": [
      "RangeIndex(start=0, stop=4, step=1)\n",
      "[ 4 -7  3  4]\n",
      "<type 'numpy.ndarray'>\n",
      "<class 'pandas.core.indexes.range.RangeIndex'>\n"
     ]
    }
   ],
   "source": [
    "#可以用values和index属性获取 值(ndarrary)和索引(Index对象)\n",
    "print obj.index\n",
    "print obj.values\n",
    "print type(obj.values)\n",
    "print type(obj.index)"
   ]
  },
  {
   "cell_type": "code",
   "execution_count": 106,
   "metadata": {},
   "outputs": [
    {
     "name": "stdout",
     "output_type": "stream",
     "text": [
      "1\n",
      "b    2\n",
      "c    3\n",
      "d    4\n",
      "dtype: int64\n"
     ]
    }
   ],
   "source": [
    "#选取单个值或一组值\n",
    "print obj2['a']\n",
    "print obj2[['b','c','d']]"
   ]
  },
  {
   "cell_type": "code",
   "execution_count": 107,
   "metadata": {},
   "outputs": [
    {
     "name": "stdout",
     "output_type": "stream",
     "text": [
      "a    2\n",
      "b    4\n",
      "c    6\n",
      "d    8\n",
      "dtype: int64\n",
      "c    3\n",
      "d    4\n",
      "dtype: int64\n"
     ]
    }
   ],
   "source": [
    "#运算\n",
    "print obj2*2\n",
    "print obj2[obj2>2]"
   ]
  },
  {
   "cell_type": "code",
   "execution_count": 108,
   "metadata": {},
   "outputs": [
    {
     "name": "stdout",
     "output_type": "stream",
     "text": [
      "True\n",
      "False\n"
     ]
    }
   ],
   "source": [
    "#Series看成是一个定长的有序字典\n",
    "print 'a' in obj2\n",
    "print 4 in obj2"
   ]
  },
  {
   "cell_type": "code",
   "execution_count": 111,
   "metadata": {},
   "outputs": [
    {
     "name": "stdout",
     "output_type": "stream",
     "text": [
      "{'Ohio': 10000, 'Utah': 5000, 'Oregon': 16000, 'Texas': 2000}\n",
      "Califonia        NaN\n",
      "Ohio         10000.0\n",
      "Texas         2000.0\n",
      "Oregon       16000.0\n",
      "dtype: float64\n"
     ]
    }
   ],
   "source": [
    "#data会和index进行匹配，匹配到的会放到相应位置，'Califonia'没有匹配到，结果为NaN  'Utah' 不在index中，会被舍弃\n",
    "stages = ['Califonia','Ohio','Texas','Oregon']\n",
    "obj4 = Series(data,index = stages)\n",
    "print data\n",
    "print obj4"
   ]
  },
  {
   "cell_type": "code",
   "execution_count": 112,
   "metadata": {},
   "outputs": [
    {
     "name": "stdout",
     "output_type": "stream",
     "text": [
      "Califonia     True\n",
      "Ohio         False\n",
      "Texas        False\n",
      "Oregon       False\n",
      "dtype: bool\n",
      "Califonia    False\n",
      "Ohio          True\n",
      "Texas         True\n",
      "Oregon        True\n",
      "dtype: bool\n",
      "Califonia     True\n",
      "Ohio         False\n",
      "Texas        False\n",
      "Oregon       False\n",
      "dtype: bool\n"
     ]
    }
   ],
   "source": [
    "#用pandas的isnull notnull函数缺失数据\n",
    "#Series也有类似的方法\n",
    "print pd.isnull(obj4)\n",
    "print pd.notnull(obj4)\n",
    "print obj4.isnull()"
   ]
  },
  {
   "cell_type": "code",
   "execution_count": 113,
   "metadata": {},
   "outputs": [
    {
     "name": "stdout",
     "output_type": "stream",
     "text": [
      "Ohio      10000\n",
      "Oregon    16000\n",
      "Texas      2000\n",
      "Utah       5000\n",
      "dtype: int64\n",
      "Califonia        NaN\n",
      "Ohio         10000.0\n",
      "Texas         2000.0\n",
      "Oregon       16000.0\n",
      "dtype: float64\n",
      "Califonia        NaN\n",
      "Ohio         20000.0\n",
      "Oregon       32000.0\n",
      "Texas         4000.0\n",
      "Utah             NaN\n",
      "dtype: float64\n"
     ]
    }
   ],
   "source": [
    "#Series 会在算数运算中自动对齐不同索引数据\n",
    "print obj3\n",
    "print obj4\n",
    "print obj3 + obj4"
   ]
  },
  {
   "cell_type": "code",
   "execution_count": 114,
   "metadata": {},
   "outputs": [
    {
     "name": "stdout",
     "output_type": "stream",
     "text": [
      "state\n",
      "Califonia        NaN\n",
      "Ohio         10000.0\n",
      "Texas         2000.0\n",
      "Oregon       16000.0\n",
      "Name: population, dtype: float64\n"
     ]
    }
   ],
   "source": [
    "# Series 对象本身及其索引都有一个name属性\n",
    "obj4.name = 'population'\n",
    "obj4.index.name = 'state'\n",
    "print obj4"
   ]
  },
  {
   "cell_type": "code",
   "execution_count": 115,
   "metadata": {},
   "outputs": [
    {
     "name": "stdout",
     "output_type": "stream",
     "text": [
      "0    4\n",
      "1   -7\n",
      "2    3\n",
      "3    4\n",
      "dtype: int64\n",
      "z    4\n",
      "x   -7\n",
      "y    3\n",
      "c    4\n",
      "dtype: int64\n"
     ]
    }
   ],
   "source": [
    "#索引可以通过赋值的方式就地修改\n",
    "print obj\n",
    "obj.index = ['z','x','y','c']\n",
    "print obj"
   ]
  },
  {
   "cell_type": "markdown",
   "metadata": {},
   "source": [
    "#### DataFrame是一个表格型的数据结构"
   ]
  },
  {
   "cell_type": "code",
   "execution_count": 117,
   "metadata": {},
   "outputs": [
    {
     "name": "stdout",
     "output_type": "stream",
     "text": [
      "   pop   stage  year\n",
      "0  1.4    Ohio  2000\n",
      "1  2.7    Ohio  2001\n",
      "2  5.4    Ohio  2002\n",
      "3  2.3  Nevada  2003\n",
      "4  9.9  Nevada  2004\n"
     ]
    }
   ],
   "source": [
    "#可以看成Series组成的字典（共用同一个索引）\n",
    "data = {'stage':['Ohio','Ohio','Ohio','Nevada','Nevada'],\n",
    "       'year':[2000,2001,2002,2003,2004],\n",
    "       'pop':[1.4,2.7,5.4,2.3,9.9]}\n",
    "frame = DataFrame(data)\n",
    "print frame"
   ]
  },
  {
   "cell_type": "code",
   "execution_count": 118,
   "metadata": {},
   "outputs": [
    {
     "name": "stdout",
     "output_type": "stream",
     "text": [
      "   year   stage  pop\n",
      "0  2000    Ohio  1.4\n",
      "1  2001    Ohio  2.7\n",
      "2  2002    Ohio  5.4\n",
      "3  2003  Nevada  2.3\n",
      "4  2004  Nevada  9.9\n"
     ]
    }
   ],
   "source": [
    "#按照指定顺序进行排序\n",
    "print DataFrame(data ,columns=['year','stage','pop'])"
   ]
  },
  {
   "cell_type": "code",
   "execution_count": 121,
   "metadata": {},
   "outputs": [
    {
     "name": "stdout",
     "output_type": "stream",
     "text": [
      "   year   stage  pop other\n",
      "a  2000    Ohio  1.4   NaN\n",
      "b  2001    Ohio  2.7   NaN\n",
      "c  2002    Ohio  5.4   NaN\n",
      "d  2003  Nevada  2.3   NaN\n",
      "e  2004  Nevada  9.9   NaN\n"
     ]
    }
   ],
   "source": [
    "#和Series一样，传入的列数据找打不到，就会产生NA值  但是行  不行\n",
    "frame2 = DataFrame(data,columns=['year','stage','pop','other'],index=['a','b','c','d','e'])\n",
    "#frame2 = DataFrame(data,columns=['year','stage','pop','other'],index=['a','b','c','d','e','f']) 报错\n",
    "print frame2"
   ]
  },
  {
   "cell_type": "code",
   "execution_count": 123,
   "metadata": {},
   "outputs": [
    {
     "name": "stdout",
     "output_type": "stream",
     "text": [
      "Index([u'year', u'stage', u'pop', u'other'], dtype='object')\n",
      "Index([u'a', u'b', u'c', u'd', u'e'], dtype='object')\n"
     ]
    }
   ],
   "source": [
    "#columns、index属性\n",
    "print frame2.columns\n",
    "print frame2.index"
   ]
  },
  {
   "cell_type": "code",
   "execution_count": 124,
   "metadata": {},
   "outputs": [
    {
     "name": "stdout",
     "output_type": "stream",
     "text": [
      "a    2000\n",
      "b    2001\n",
      "c    2002\n",
      "d    2003\n",
      "e    2004\n",
      "Name: year, dtype: int64\n",
      "a      Ohio\n",
      "b      Ohio\n",
      "c      Ohio\n",
      "d    Nevada\n",
      "e    Nevada\n",
      "Name: stage, dtype: object\n"
     ]
    }
   ],
   "source": [
    "#获得某一列\n",
    "print frame2['year']\n",
    "print frame2.stage"
   ]
  },
  {
   "cell_type": "code",
   "execution_count": 126,
   "metadata": {},
   "outputs": [
    {
     "name": "stdout",
     "output_type": "stream",
     "text": [
      "year     2002\n",
      "stage    Ohio\n",
      "pop       5.4\n",
      "other     NaN\n",
      "Name: c, dtype: object\n"
     ]
    }
   ],
   "source": [
    "#获得某一行\n",
    "print frame2.ix['c']"
   ]
  },
  {
   "cell_type": "code",
   "execution_count": 80,
   "metadata": {
    "collapsed": true
   },
   "outputs": [],
   "source": [
    "import numpy as np"
   ]
  },
  {
   "cell_type": "code",
   "execution_count": 127,
   "metadata": {},
   "outputs": [
    {
     "name": "stdout",
     "output_type": "stream",
     "text": [
      "   year   stage  pop  other\n",
      "a  2000    Ohio  1.4    111\n",
      "b  2001    Ohio  2.7    111\n",
      "c  2002    Ohio  5.4    111\n",
      "d  2003  Nevada  2.3    111\n",
      "e  2004  Nevada  9.9    111\n"
     ]
    }
   ],
   "source": [
    "#给某一列赋值\n",
    "frame2['other'] = 111\n",
    "print frame2"
   ]
  },
  {
   "cell_type": "code",
   "execution_count": 128,
   "metadata": {},
   "outputs": [
    {
     "name": "stdout",
     "output_type": "stream",
     "text": [
      "   year   stage  pop  other\n",
      "a  2000    Ohio  1.4    0.0\n",
      "b  2001    Ohio  2.7    1.0\n",
      "c  2002    Ohio  5.4    2.0\n",
      "d  2003  Nevada  2.3    3.0\n",
      "e  2004  Nevada  9.9    4.0\n"
     ]
    }
   ],
   "source": [
    "#给某一列赋值\n",
    "frame2['other'] = np.arange(5.)\n",
    "print frame2"
   ]
  },
  {
   "cell_type": "code",
   "execution_count": 129,
   "metadata": {},
   "outputs": [
    {
     "name": "stdout",
     "output_type": "stream",
     "text": [
      "   year   stage  pop  other\n",
      "a  2000    Ohio  1.4   -1.2\n",
      "b  2001    Ohio  2.7    NaN\n",
      "c  2002    Ohio  5.4    NaN\n",
      "d  2003  Nevada  2.3    NaN\n",
      "e  2004  Nevada  9.9   -3.4\n"
     ]
    }
   ],
   "source": [
    "#如果赋值的是个Series,会精确匹配到DataFrame的索引，所有的空位都被填上空缺值\n",
    "val = Series([-1.2,-3.4],index=['a','e'])\n",
    "frame2['other'] = val\n",
    "print frame2"
   ]
  },
  {
   "cell_type": "code",
   "execution_count": 131,
   "metadata": {},
   "outputs": [
    {
     "name": "stdout",
     "output_type": "stream",
     "text": [
      "   year   stage  pop  other other2\n",
      "a  2000    Ohio  1.4   -1.2       \n",
      "b  2001    Ohio  2.7    NaN       \n",
      "c  2002    Ohio  5.4    NaN       \n",
      "d  2003  Nevada  2.3    NaN       \n",
      "e  2004  Nevada  9.9   -3.4       \n"
     ]
    }
   ],
   "source": [
    "#为不存在的列赋值会创建出一个新列\n",
    "frame2['other2'] = ''\n",
    "print frame2"
   ]
  },
  {
   "cell_type": "code",
   "execution_count": 132,
   "metadata": {},
   "outputs": [
    {
     "name": "stdout",
     "output_type": "stream",
     "text": [
      "   year   stage  pop  other  other2\n",
      "a  2000    Ohio  1.4   -1.2    True\n",
      "b  2001    Ohio  2.7    NaN    True\n",
      "c  2002    Ohio  5.4    NaN    True\n",
      "d  2003  Nevada  2.3    NaN   False\n",
      "e  2004  Nevada  9.9   -3.4   False\n"
     ]
    }
   ],
   "source": [
    "frame2['other2'] = frame2.stage == 'Ohio'\n",
    "print frame2"
   ]
  },
  {
   "cell_type": "code",
   "execution_count": 133,
   "metadata": {},
   "outputs": [
    {
     "name": "stdout",
     "output_type": "stream",
     "text": [
      "Index([u'year', u'stage', u'pop', u'other2'], dtype='object')\n"
     ]
    }
   ],
   "source": [
    "#删除列\n",
    "del frame2['other']\n",
    "print frame2.columns"
   ]
  },
  {
   "cell_type": "code",
   "execution_count": 134,
   "metadata": {},
   "outputs": [
    {
     "name": "stdout",
     "output_type": "stream",
     "text": [
      "   Neveda  Ohio\n",
      "1     NaN     1\n",
      "b     1.0     0\n",
      "c     3.0     0\n"
     ]
    }
   ],
   "source": [
    "#嵌套字典，外层的健作为列，内层的健作为行索引\n",
    "pop = {'Neveda':{'b':1,'c':3},'Ohio':{1:1,'b':0,'c':0}}\n",
    "frame3 = DataFrame(pop)\n",
    "print frame3"
   ]
  },
  {
   "cell_type": "code",
   "execution_count": 135,
   "metadata": {},
   "outputs": [
    {
     "name": "stdout",
     "output_type": "stream",
     "text": [
      "          1    b    c\n",
      "Neveda  NaN  1.0  3.0\n",
      "Ohio    1.0  0.0  0.0\n"
     ]
    }
   ],
   "source": [
    "#转置\n",
    "print frame3.T"
   ]
  },
  {
   "cell_type": "code",
   "execution_count": 136,
   "metadata": {},
   "outputs": [
    {
     "name": "stdout",
     "output_type": "stream",
     "text": [
      "1    1\n",
      "b    0\n",
      "Name: Ohio, dtype: int64\n",
      "1    NaN\n",
      "b    1.0\n",
      "Name: Neveda, dtype: float64\n",
      "   Neveda  Ohio\n",
      "1     NaN     1\n",
      "b     1.0     0\n"
     ]
    }
   ],
   "source": [
    "#由Series组成的字典\n",
    "print frame3['Ohio'][:-1]\n",
    "print frame3['Neveda'][:2]\n",
    "pdata = {'Ohio':frame3['Ohio'][:-1],'Neveda':frame3['Neveda'][:2]}\n",
    "print DataFrame(pdata)"
   ]
  },
  {
   "cell_type": "code",
   "execution_count": 137,
   "metadata": {},
   "outputs": [
    {
     "name": "stdout",
     "output_type": "stream",
     "text": [
      "stage  Neveda  Ohio\n",
      "num                \n",
      "1         NaN     1\n",
      "b         1.0     0\n",
      "c         3.0     0\n"
     ]
    }
   ],
   "source": [
    "#index、columns的name属性\n",
    "frame3.index.name = 'num'\n",
    "frame3.columns.name = 'stage'\n",
    "print frame3"
   ]
  },
  {
   "cell_type": "code",
   "execution_count": 138,
   "metadata": {},
   "outputs": [
    {
     "name": "stdout",
     "output_type": "stream",
     "text": [
      "[[ nan   1.]\n",
      " [  1.   0.]\n",
      " [  3.   0.]]\n",
      "<type 'numpy.ndarray'>\n",
      "[[2000L 'Ohio' 1.4 True]\n",
      " [2001L 'Ohio' 2.7 True]\n",
      " [2002L 'Ohio' 5.4 True]\n",
      " [2003L 'Nevada' 2.3 False]\n",
      " [2004L 'Nevada' 9.9 False]]\n",
      "<type 'numpy.ndarray'>\n"
     ]
    }
   ],
   "source": [
    "print frame3.values\n",
    "print type(frame3.values)\n",
    "print frame2.values\n",
    "print type(frame2.values)"
   ]
  },
  {
   "cell_type": "markdown",
   "metadata": {},
   "source": [
    "#### 注：pandas索引对象Index是不可修改的"
   ]
  },
  {
   "cell_type": "code",
   "execution_count": 141,
   "metadata": {},
   "outputs": [
    {
     "name": "stdout",
     "output_type": "stream",
     "text": [
      "stage  Neveda  Ohio\n",
      "num                \n",
      "1         NaN     1\n",
      "b         1.0     0\n",
      "c         3.0     0\n",
      "True\n",
      "True\n"
     ]
    }
   ],
   "source": [
    "#除了长的像数组，Index的功能也类似一个固定大小的集合\n",
    "print frame3\n",
    "print 'Ohio' in frame3.columns\n",
    "print 'c' in frame3.index"
   ]
  }
 ],
 "metadata": {
  "kernelspec": {
   "display_name": "Python 2",
   "language": "python",
   "name": "python2"
  },
  "language_info": {
   "codemirror_mode": {
    "name": "ipython",
    "version": 2
   },
   "file_extension": ".py",
   "mimetype": "text/x-python",
   "name": "python",
   "nbconvert_exporter": "python",
   "pygments_lexer": "ipython2",
   "version": "2.7.12"
  }
 },
 "nbformat": 4,
 "nbformat_minor": 2
}
